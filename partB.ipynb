{
 "cells": [
  {
   "cell_type": "code",
   "execution_count": 1,
   "id": "initial_id",
   "metadata": {
    "collapsed": true,
    "ExecuteTime": {
     "end_time": "2024-02-21T10:13:21.442003Z",
     "start_time": "2024-02-21T10:13:20.431298Z"
    }
   },
   "outputs": [
    {
     "data": {
      "text/plain": "       textID                                               text sentiment  \\\n0  b8f4e560fa   but yeah i like purple maybe thats why!! ;)  ...  positive   \n1  f81a1511b2  _Henrie haha i WISH i coudl meet you.. you sho...  positive   \n2  3e9e3f0d69          nah, you`re just altered forever   Enjoy.  positive   \n3  a068b95bd9   Can you ask Ryan why he stopped following me ...  negative   \n4  e6da2d1835  New issue of  in the office...desperately want...  negative   \n\n         message_date account_creation_date  \\\n0   2023-10-2 7:41:52      2015-4-13 0:1:16   \n1   2022-11-17 2:1:57     2013-7-1 18:58:16   \n2    2022-6-1 6:53:18      2013-8-8 2:21:12   \n3   2022-1-4 11:38:57   2015-10-16 14:51:19   \n4  2022-5-11 21:56:27    2013-12-15 19:8:40   \n\n                             previous_messages_dates  \\\n0  [2019-2-15 16:12:42, 2020-6-2 16:49:53, 2021-4...   \n1  [2021-7-5 21:53:48, 2020-12-12 9:7:50, 2020-9-...   \n2  [2021-7-11 9:59:36, 2020-2-18 6:38:45, 2021-5-...   \n3  [2021-8-16 4:55:32, 2021-6-1 10:13:37, 2021-12...   \n4  [2021-9-11 10:55:6, 2021-5-6 12:1:54, 2021-1-1...   \n\n                                date_of_new_follower  \\\n0  [2016-1-13 7:12:26, 2016-5-17 13:40:38, 2016-1...   \n1  [2016-10-4 7:49:46, 2016-6-10 7:47:39, 2016-4-...   \n2  [2018-7-13 17:0:3, 2016-2-13 17:8:12, 2016-2-1...   \n3                                  [2018-7-1 5:9:39]   \n4           [2018-11-2 11:16:12, 2018-10-18 16:8:34]   \n\n                                  date_of_new_follow  \\\n0  [2016-7-15 0:3:50, 2016-4-10 22:31:8, 2016-10-...   \n1  [2016-7-5 20:23:57, 2016-5-3 15:9:51, 2018-11-...   \n2  [2016-7-9 22:15:10, 2018-4-13 20:37:55, 2016-1...   \n3  [2018-10-18 7:23:20, 2018-4-10 12:17:6, 2016-6...   \n4  [2018-4-18 20:56:34, 2018-7-1 14:56:33, 2016-4...   \n\n                              email gender email_verified blue_tick  \\\n0  ClareRosindill3265@messenger.gov      F            NaN     False   \n1   ErenaAntonchik231@messenger.gov      M           True      True   \n2          GodardCowlas6687@api.gov      F           True      True   \n3     RalfStolberger6467@python.gov      M          False     False   \n4         MadelLeaton248@bbc.gov.il      M          False     False   \n\n  embedded_content  platform  \n0              mp4  facebook  \n1            False    tiktok  \n2            False    tiktok  \n3              mp4    tiktok  \n4             None      None  ",
      "text/html": "<div>\n<style scoped>\n    .dataframe tbody tr th:only-of-type {\n        vertical-align: middle;\n    }\n\n    .dataframe tbody tr th {\n        vertical-align: top;\n    }\n\n    .dataframe thead th {\n        text-align: right;\n    }\n</style>\n<table border=\"1\" class=\"dataframe\">\n  <thead>\n    <tr style=\"text-align: right;\">\n      <th></th>\n      <th>textID</th>\n      <th>text</th>\n      <th>sentiment</th>\n      <th>message_date</th>\n      <th>account_creation_date</th>\n      <th>previous_messages_dates</th>\n      <th>date_of_new_follower</th>\n      <th>date_of_new_follow</th>\n      <th>email</th>\n      <th>gender</th>\n      <th>email_verified</th>\n      <th>blue_tick</th>\n      <th>embedded_content</th>\n      <th>platform</th>\n    </tr>\n  </thead>\n  <tbody>\n    <tr>\n      <th>0</th>\n      <td>b8f4e560fa</td>\n      <td>but yeah i like purple maybe thats why!! ;)  ...</td>\n      <td>positive</td>\n      <td>2023-10-2 7:41:52</td>\n      <td>2015-4-13 0:1:16</td>\n      <td>[2019-2-15 16:12:42, 2020-6-2 16:49:53, 2021-4...</td>\n      <td>[2016-1-13 7:12:26, 2016-5-17 13:40:38, 2016-1...</td>\n      <td>[2016-7-15 0:3:50, 2016-4-10 22:31:8, 2016-10-...</td>\n      <td>ClareRosindill3265@messenger.gov</td>\n      <td>F</td>\n      <td>NaN</td>\n      <td>False</td>\n      <td>mp4</td>\n      <td>facebook</td>\n    </tr>\n    <tr>\n      <th>1</th>\n      <td>f81a1511b2</td>\n      <td>_Henrie haha i WISH i coudl meet you.. you sho...</td>\n      <td>positive</td>\n      <td>2022-11-17 2:1:57</td>\n      <td>2013-7-1 18:58:16</td>\n      <td>[2021-7-5 21:53:48, 2020-12-12 9:7:50, 2020-9-...</td>\n      <td>[2016-10-4 7:49:46, 2016-6-10 7:47:39, 2016-4-...</td>\n      <td>[2016-7-5 20:23:57, 2016-5-3 15:9:51, 2018-11-...</td>\n      <td>ErenaAntonchik231@messenger.gov</td>\n      <td>M</td>\n      <td>True</td>\n      <td>True</td>\n      <td>False</td>\n      <td>tiktok</td>\n    </tr>\n    <tr>\n      <th>2</th>\n      <td>3e9e3f0d69</td>\n      <td>nah, you`re just altered forever   Enjoy.</td>\n      <td>positive</td>\n      <td>2022-6-1 6:53:18</td>\n      <td>2013-8-8 2:21:12</td>\n      <td>[2021-7-11 9:59:36, 2020-2-18 6:38:45, 2021-5-...</td>\n      <td>[2018-7-13 17:0:3, 2016-2-13 17:8:12, 2016-2-1...</td>\n      <td>[2016-7-9 22:15:10, 2018-4-13 20:37:55, 2016-1...</td>\n      <td>GodardCowlas6687@api.gov</td>\n      <td>F</td>\n      <td>True</td>\n      <td>True</td>\n      <td>False</td>\n      <td>tiktok</td>\n    </tr>\n    <tr>\n      <th>3</th>\n      <td>a068b95bd9</td>\n      <td>Can you ask Ryan why he stopped following me ...</td>\n      <td>negative</td>\n      <td>2022-1-4 11:38:57</td>\n      <td>2015-10-16 14:51:19</td>\n      <td>[2021-8-16 4:55:32, 2021-6-1 10:13:37, 2021-12...</td>\n      <td>[2018-7-1 5:9:39]</td>\n      <td>[2018-10-18 7:23:20, 2018-4-10 12:17:6, 2016-6...</td>\n      <td>RalfStolberger6467@python.gov</td>\n      <td>M</td>\n      <td>False</td>\n      <td>False</td>\n      <td>mp4</td>\n      <td>tiktok</td>\n    </tr>\n    <tr>\n      <th>4</th>\n      <td>e6da2d1835</td>\n      <td>New issue of  in the office...desperately want...</td>\n      <td>negative</td>\n      <td>2022-5-11 21:56:27</td>\n      <td>2013-12-15 19:8:40</td>\n      <td>[2021-9-11 10:55:6, 2021-5-6 12:1:54, 2021-1-1...</td>\n      <td>[2018-11-2 11:16:12, 2018-10-18 16:8:34]</td>\n      <td>[2018-4-18 20:56:34, 2018-7-1 14:56:33, 2016-4...</td>\n      <td>MadelLeaton248@bbc.gov.il</td>\n      <td>M</td>\n      <td>False</td>\n      <td>False</td>\n      <td>None</td>\n      <td>None</td>\n    </tr>\n  </tbody>\n</table>\n</div>"
     },
     "execution_count": 1,
     "metadata": {},
     "output_type": "execute_result"
    }
   ],
   "source": [
    "import pickle\n",
    "import pandas as pd\n",
    "import numpy as np\n",
    "import matplotlib.pyplot as plt\n",
    "import seaborn as sns\n",
    "from sklearn.preprocessing import OrdinalEncoder\n",
    "from sklearn.impute import KNNImputer\n",
    "from sklearn.feature_extraction.text import CountVectorizer\n",
    "from sklearn.datasets import load_iris\n",
    "from scipy.stats import chi2_contingency\n",
    "import re\n",
    "from datetime import datetime\n",
    "from collections import Counter\n",
    "from sklearn.preprocessing import MinMaxScaler\n",
    "\n",
    "\n",
    "df = pd.read_pickle(r'/Users/maya/Documents/Information Systems/שנה ג׳/למידת מכונה/פרוייקט קורס/XY_train.pkl')\n",
    "df.head()"
   ]
  },
  {
   "cell_type": "code",
   "outputs": [],
   "source": [
    "from sklearn.model_selection import KFold\n",
    "from sklearn.linear_model import LogisticRegression\n",
    "from sklearn.metrics import accuracy_score\n",
    "\n",
    "\n",
    "x = df.drop(columns=['sentiment', 'textID']) \n",
    "y = df['sentiment']\n",
    "\n",
    "# Step 2: Initialize your model (e.g., Logistic Regression)\n",
    "model = LogisticRegression()\n",
    "\n",
    "# Step 3: Perform k-fold cross-validation using the processed dataset\n",
    "k = 10 # Number of folds\n",
    "kf = KFold(n_splits=k, shuffle=True, random_state=42)\n",
    "\n",
    "for train_index, test_index in kf.split(df):\n",
    "    X_train, X_test = df.iloc[train_index], df.iloc[test_index]\n",
    "    Y_train, Y_test = y.iloc[train_index], y.iloc[test_index]\n",
    "   "
   ],
   "metadata": {
    "collapsed": false
   },
   "id": "d7629f629c7ba48f"
  }
 ],
 "metadata": {
  "kernelspec": {
   "display_name": "Python 3",
   "language": "python",
   "name": "python3"
  },
  "language_info": {
   "codemirror_mode": {
    "name": "ipython",
    "version": 2
   },
   "file_extension": ".py",
   "mimetype": "text/x-python",
   "name": "python",
   "nbconvert_exporter": "python",
   "pygments_lexer": "ipython2",
   "version": "2.7.6"
  }
 },
 "nbformat": 4,
 "nbformat_minor": 5
}
